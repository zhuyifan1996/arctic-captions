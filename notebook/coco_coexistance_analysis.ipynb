{
 "cells": [
  {
   "cell_type": "markdown",
   "metadata": {},
   "source": [
    "# Setup"
   ]
  },
  {
   "cell_type": "code",
   "execution_count": 21,
   "metadata": {
    "collapsed": false
   },
   "outputs": [],
   "source": [
    "\"\"\"\n",
    "Frequency Analysis\n",
    "\"\"\"\n",
    "import numpy as np\n",
    "import matplotlib.mlab as mlab\n",
    "import matplotlib.pyplot as plt\n",
    "%matplotlib inline\n",
    "\n",
    "\n",
    "COCO_PATH = '../../data/coco/'\n",
    "COCO_ANNO_PATH = COCO_PATH + 'annotations/'\n",
    "\n",
    "# load the data from captions\n",
    "import json\n",
    "with open(COCO_ANNO_PATH + 'captions_train2014.json') as f:\n",
    "    coco_captions = json.load(f)\n",
    "    \n",
    "    # build the reverse dictionary, from img_id to captions, img_infos, and annotations\n",
    "    img_captions = {}\n",
    "    for img_info in coco_captions['images']:\n",
    "        mid = str(img_info['id'])\n",
    "        if not mid in img_captions:\n",
    "            img_captions[mid] = {}\n",
    "        img_captions[mid]['image'] = img_info\n",
    "        \n",
    "    for cap_info in coco_captions['annotations']:\n",
    "        mid = str(cap_info['image_id'])\n",
    "        if not 'annotation' in img_captions[mid]:\n",
    "            img_captions[mid]['annotation'] = []\n",
    "            img_captions[mid]['captions'] = ''\n",
    "        img_captions[mid]['annotation'].append(cap_info)\n",
    "        img_captions[mid]['captions'] += str(cap_info['caption']) + ' '\n",
    "        "
   ]
  },
  {
   "cell_type": "code",
   "execution_count": 13,
   "metadata": {
    "collapsed": false
   },
   "outputs": [
    {
     "data": {
      "text/plain": [
       "'A couple of people and some motor bikes. Several parked motorcycles sitting parked beside a fence. a couple of dirt bike motorcycles are parked Bikes parked on the side of a street beside a fence. Group of motorcycles with a rider in the background.  '"
      ]
     },
     "execution_count": 13,
     "metadata": {},
     "output_type": "execute_result"
    }
   ],
   "source": [
    "img_captions['287140']['captions']"
   ]
  },
  {
   "cell_type": "code",
   "execution_count": 3,
   "metadata": {
    "collapsed": false
   },
   "outputs": [
    {
     "name": "stdout",
     "output_type": "stream",
     "text": [
      "loading annotations into memory...\n",
      "0:00:03.232244\n",
      "creating index...\n",
      "index created!\n"
     ]
    },
    {
     "data": {
      "text/plain": [
       "[]"
      ]
     },
     "execution_count": 3,
     "metadata": {},
     "output_type": "execute_result"
    }
   ],
   "source": [
    "\"\"\"\n",
    "Import Coco Text\n",
    "\"\"\"\n",
    "import sys\n",
    "import os\n",
    "CWD = os.getcwd()\n",
    "COCO_TEXT_PATH = CWD+'/../../coco-text/'\n",
    "sys.path.insert(0, COCO_TEXT_PATH)\n",
    "import coco_text as ct\n",
    "\n",
    "ct = ct.COCO_Text(COCO_PATH + 'COCO_Text.json')\n",
    "\n",
    "ct.loadAnns(ct.getAnnIds(imgIds='8006'))"
   ]
  },
  {
   "cell_type": "code",
   "execution_count": 6,
   "metadata": {
    "collapsed": false
   },
   "outputs": [
    {
     "name": "stdout",
     "output_type": "stream",
     "text": [
      "set([u'GV'])\n",
      "0.0\n"
     ]
    },
    {
     "data": {
      "text/plain": [
       "0.0"
      ]
     },
     "execution_count": 6,
     "metadata": {},
     "output_type": "execute_result"
    }
   ],
   "source": [
    "import re\n",
    "\n",
    "def cal_coexist_rate(img_id, debug=False):\n",
    "    cap = img_captions[img_id]['captions'].upper()\n",
    "    if debug: \n",
    "        print 'Captions is :\\n%s\\n'%cap\n",
    "\n",
    "    cap_words = set(re.split('([,.])*\\s', cap))\n",
    "    if debug:\n",
    "        print '%s\\n'%cap_words\n",
    "\n",
    "    texts = ct.loadAnns(ct.getAnnIds(imgIds=int(img_id)))\n",
    "    text_words = set()\n",
    "    coexist_count = 0\n",
    "    for text in texts:\n",
    "        if not 'utf8_string' in text:\n",
    "            continue\n",
    "        words = text['utf8_string'].upper().split(' ')\n",
    "        for word in words:\n",
    "            if word in text_words:\n",
    "                continue\n",
    "            else:\n",
    "                text_words.add(word)\n",
    "\n",
    "            if word in cap_words:\n",
    "                if debug:\n",
    "                    print 'Word \"%s\" in caption.'%word\n",
    "                coexist_count = coexist_count + 1\n",
    "\n",
    "    print text_words\n",
    "    print coexist_count/float(len(set(text_words)))\n",
    "    return coexist_count/float(len(set(text_words))) \n",
    "\n",
    "# cal_coexist_rate('8006')\n",
    "cal_coexist_rate('296614')"
   ]
  },
  {
   "cell_type": "markdown",
   "metadata": {},
   "source": [
    "# Calculating conditional coexistence rate "
   ]
  },
  {
   "cell_type": "code",
   "execution_count": 81,
   "metadata": {
    "collapsed": false
   },
   "outputs": [],
   "source": [
    "\"\"\"helper filtering functions\"\"\"\n",
    "\n",
    "import re\n",
    "\n",
    "def exclude_small_text(anns, img_id, threshold=0.1):\n",
    "    \"\"\"filter out the text annotations with a bounding box smaller than [threshold]*img_area\"\"\"\n",
    "    img_info = img_captions[img_id]['image']\n",
    "    h,w = img_info['height'], img_info['width']\n",
    "    return filter(lambda ann: ann['area']>=h*w*threshold, anns)\n",
    "\n",
    "def exclude_corner_text(anns, img_id, threshold=0.1):\n",
    "    \"\"\"filter out the text annotations on sides and corners\"\"\"\n",
    "    img_info = img_captions[img_id]['image']\n",
    "    h,w = img_info['height'], img_info['width']\n",
    "    def _judge(ann):\n",
    "        [x,y,bw,bh]=ann['bbox']\n",
    "        return  x>=threshold*w and \\\n",
    "                x+bw<=(1-threshold)*w and \\\n",
    "                y+bh<=(1-threshold)*h and \\\n",
    "                y>=threshold*h\n",
    "    return filter(_judge, anns)"
   ]
  },
  {
   "cell_type": "code",
   "execution_count": null,
   "metadata": {
    "collapsed": true
   },
   "outputs": [],
   "source": [
    "\"\"\"This function calculates coexistence rate in the following manner:\n",
    "For an image I, get a bag of words (no duplicate) S that appear in it, get the count\n",
    "of words k that appear in I's caption. \n",
    "Return k/|S|\"\"\"\n",
    "\n",
    "def calculate_population_coexist_stat(flags={}):\n",
    "    \"\"\"flag: \n",
    "    [] -- all captions\n",
    "    size: n -- excluding small bboxes with size less than n\n",
    "    corner: d -- excluding all texts entirely within d pixels to the sides\"\"\"\n",
    "    coexists = []\n",
    "\n",
    "    for img_id in img_captions.keys():\n",
    "        cap = img_captions[img_id]['captions'].upper()\n",
    "        cap_words = set(re.split('([,.])*\\s', cap))\n",
    "\n",
    "        texts = ct.loadAnns(ct.getAnnIds(imgIds=int(img_id)))\n",
    "        \n",
    "        #filtering\n",
    "        if 'size' in flags:\n",
    "            texts = exclude_small_text(texts, img_id , threshold=flags['size'])\n",
    "        if 'corner' in flags:\n",
    "            texts = exclude_corner_text(texts, img_id, threshold=flags['corner'])\n",
    "        \n",
    "        if len(texts) == 0:\n",
    "            continue\n",
    "\n",
    "        text_words = set()\n",
    "        coexist_count = 0\n",
    "        for text in texts:\n",
    "            if not 'utf8_string' in text:\n",
    "                continue\n",
    "            words = text['utf8_string'].upper().split(' ')\n",
    "            for word in words:\n",
    "                if word in text_words:\n",
    "                    continue\n",
    "                else:\n",
    "                    text_words.add(word)\n",
    "\n",
    "                if word in cap_words:\n",
    "                    coexist_count = coexist_count + 1      \n",
    "                    \n",
    "        if len(text_words) == 0:\n",
    "            continue\n",
    "\n",
    "        img_captions[img_id]['coexistence_data'] = {\n",
    "            'count'      : coexist_count,\n",
    "            'text_count' : len(text_words),\n",
    "            'rate'       : coexist_count/float(len(text_words))\n",
    "        }\n",
    "\n",
    "        coexists.append((coexist_count, len(text_words),coexist_count/float(len(text_words)), img_id))\n",
    "    return coexists\n",
    "\n",
    "coexists_large = calculate_population_coexist_stat({'size':0.05})\n",
    "coexists_center = calculate_population_coexist_stat({'corner':0.25})\n",
    "coexists_all = calculate_population_coexist_stat()"
   ]
  },
  {
   "cell_type": "code",
   "execution_count": 29,
   "metadata": {
    "collapsed": false
   },
   "outputs": [
    {
     "ename": "NameError",
     "evalue": "name 'coexists_large' is not defined",
     "output_type": "error",
     "traceback": [
      "\u001b[0;31m---------------------------------------------------------------------------\u001b[0m",
      "\u001b[0;31mNameError\u001b[0m                                 Traceback (most recent call last)",
      "\u001b[0;32m<ipython-input-29-6401632d6beb>\u001b[0m in \u001b[0;36m<module>\u001b[0;34m()\u001b[0m\n\u001b[1;32m     10\u001b[0m     \u001b[0;32mprint\u001b[0m \u001b[0;34m\"\\n\"\u001b[0m\u001b[0;34m\u001b[0m\u001b[0m\n\u001b[1;32m     11\u001b[0m \u001b[0;34m\u001b[0m\u001b[0m\n\u001b[0;32m---> 12\u001b[0;31m \u001b[0mdataset\u001b[0m \u001b[0;34m=\u001b[0m \u001b[0mcoexists_large\u001b[0m\u001b[0;34m\u001b[0m\u001b[0m\n\u001b[0m\u001b[1;32m     13\u001b[0m \u001b[0;32mprint\u001b[0m \u001b[0;34m\"Dataset has size:%d\"\u001b[0m \u001b[0;34m%\u001b[0m \u001b[0mlen\u001b[0m\u001b[0;34m(\u001b[0m\u001b[0mdataset\u001b[0m\u001b[0;34m)\u001b[0m\u001b[0;34m\u001b[0m\u001b[0m\n\u001b[1;32m     14\u001b[0m \u001b[0;31m# for i in [0,1,2]:\u001b[0m\u001b[0;34m\u001b[0m\u001b[0;34m\u001b[0m\u001b[0m\n",
      "\u001b[0;31mNameError\u001b[0m: name 'coexists_large' is not defined"
     ]
    }
   ],
   "source": [
    "\n",
    "import statistics\n",
    "\n",
    "def get_stat(data):\n",
    "    if len(data)==0: return;\n",
    "    print \"\"\n",
    "    print \"Total:\\t%d;\\t\\tMean:\\t\\t%f;\\tNonezero:\\t%d\"%(len(data), statistics.mean(data), len(filter(lambda x:x!=0, data)))\n",
    "    print \"Median:\\t%f;\\tMedian(H):\\t%f;\\tMedian(L):\\t%f;\"%(statistics.median(data), statistics.median_high(data), statistics.median_low(data))\n",
    "    print \"Max:\\t%f;\\tMin:\\t\\t%f;\\tStd:\\t\\t%f\"%(max(data), min(data),statistics.stdev(data))\n",
    "    print \"\\n\"\n",
    "\n",
    "dataset = coexists_large\n",
    "print \"Dataset has size:%d\" % len(dataset)\n",
    "# for i in [0,1,2]:\n",
    "print \"Coexistence rate summary for images with larger texts.\"\n",
    "get_stat(map(lambda x:x[2], dataset))\n"
   ]
  },
  {
   "cell_type": "code",
   "execution_count": 30,
   "metadata": {
    "collapsed": true
   },
   "outputs": [],
   "source": [
    "\"\"\"This cell calculates category-specific coexistence rate in a slightly different manner than above.\n",
    "Since we are focusing no a single annotation's attribute, we calculate coexistence rate for each annotation\n",
    "as (# of words in annotation that appears in caption)/(# of words in annotations, no duplicates).\n",
    "We calculate the mean for each category afterwords.\"\"\"\n",
    "\n",
    "def cal_ann_coexist_rate(ann):\n",
    "    if not \"utf8_string\"  in ann:\n",
    "        return None\n",
    "    caption = img_captions[str(ann['image_id'])]['captions']\n",
    "    text = ann['utf8_string']\n",
    "    count = 0 \n",
    "    seen = set()\n",
    "    for word in text:\n",
    "        if word in seen:\n",
    "            continue\n",
    "        if word in caption:\n",
    "            count+=1\n",
    "        seen.add(word)\n",
    "    return 1.0*count/len(seen)\n",
    "    \n",
    "\n",
    "\"\"\"\n",
    "Calculate conditional coexistence mean for category.\n",
    "“class”                  :   str     # ‘machine printed’ or ‘handwritten’ or ‘others’\n",
    "“legibility”             :   str     # ‘legible’ or ‘illegible’\n",
    "“language”               :   str     # ‘english’ or ‘not english’ or ‘na’\n",
    "\"\"\"\n",
    "def calc_cond_coexist_mean():\n",
    "    class_score = {\"machine printed\":[], \"handwritten\":[], \"others\":[]}\n",
    "    legib_score = {\"legible\":[], \"illegible\":[]}\n",
    "    lang_score = {\"english\":[], \"not english\":[], \"na\":[]}\n",
    "    for img_id in img_captions.keys():\n",
    "        cap = img_captions[img_id]['captions'].upper()\n",
    "        cap_words = set(re.split('([,.])*\\s', cap))\n",
    "\n",
    "        anns = ct.loadAnns(ct.getAnnIds(imgIds=int(img_id)))\n",
    "        \n",
    "        #disregard any no-text images\n",
    "        if len(anns)==0:\n",
    "            continue\n",
    "            \n",
    "        #calculate coexistence rate for this image\n",
    "        for ann in anns:\n",
    "            rate = cal_ann_coexist_rate(ann)\n",
    "            #essentially disregard all illegible texts, which kinda betrays the point \n",
    "            if rate is None: \n",
    "                continue\n",
    "            class_score[ann['class']].append(rate)\n",
    "            legib_score[ann['legibility']].append(rate)\n",
    "            lang_score[ann['language']].append(rate)\n",
    "    return class_score, legib_score, lang_score\n",
    "\n",
    "#get statistics\n",
    "clas, legib, lang = calc_cond_coexist_mean()"
   ]
  },
  {
   "cell_type": "code",
   "execution_count": 34,
   "metadata": {
    "collapsed": false
   },
   "outputs": [
    {
     "name": "stdout",
     "output_type": "stream",
     "text": [
      "Conditioned on [class]\n",
      "Machine printed:\n",
      "\n",
      "Total:\t94028;\t\tMean:\t\t0.542290;\tNonezero:\t66233\n",
      "Median:\t0.666667;\tMedian(H):\t0.666667;\tMedian(L):\t0.666667;\n",
      "Max:\t1.000000;\tMin:\t\t0.000000;\tStd:\t\t0.433845\n",
      "\n",
      "\n",
      "Handwritten:\n",
      "\n",
      "Total:\t4829;\t\tMean:\t\t0.557745;\tNonezero:\t3593\n",
      "Median:\t0.714286;\tMedian(H):\t0.714286;\tMedian(L):\t0.714286;\n",
      "Max:\t1.000000;\tMin:\t\t0.000000;\tStd:\t\t0.417883\n",
      "\n",
      "\n",
      "Others:\n",
      "\n",
      "Total:\t1990;\t\tMean:\t\t0.514228;\tNonezero:\t1303\n",
      "Median:\t0.500000;\tMedian(H):\t0.500000;\tMedian(L):\t0.500000;\n",
      "Max:\t1.000000;\tMin:\t\t0.000000;\tStd:\t\t0.439774\n",
      "\n",
      "\n",
      "Conditioned on [legibility]\n",
      "Legible:\n",
      "\n",
      "Total:\t100847;\t\tMean:\t\t0.542476;\tNonezero:\t71129\n",
      "Median:\t0.666667;\tMedian(H):\t0.666667;\tMedian(L):\t0.666667;\n",
      "Max:\t1.000000;\tMin:\t\t0.000000;\tStd:\t\t0.433239\n",
      "\n",
      "\n",
      "Conditioned on [language]\n",
      "English\n",
      "\n",
      "Total:\t100847;\t\tMean:\t\t0.542476;\tNonezero:\t71129\n",
      "Median:\t0.666667;\tMedian(H):\t0.666667;\tMedian(L):\t0.666667;\n",
      "Max:\t1.000000;\tMin:\t\t0.000000;\tStd:\t\t0.433239\n",
      "\n",
      "\n"
     ]
    },
    {
     "data": {
      "image/png": "[encoded data removed]",
      "text/plain": [
       "<matplotlib.figure.Figure at 0x12e134a10>"
      ]
     },
     "metadata": {},
     "output_type": "display_data"
    },
    {
     "data": {
      "image/png": "[encoded data removed]",
      "text/plain": [
       "<matplotlib.figure.Figure at 0x10602bad0>"
      ]
     },
     "metadata": {},
     "output_type": "display_data"
    },
    {
     "data": {
      "image/png": "[encoded data removed]",
      "text/plain": [
       "<matplotlib.figure.Figure at 0x10993e910>"
      ]
     },
     "metadata": {},
     "output_type": "display_data"
    },
    {
     "data": {
      "image/png": "[encoded data removed]",
      "text/plain": [
       "<matplotlib.figure.Figure at 0x10602b190>"
      ]
     },
     "metadata": {},
     "output_type": "display_data"
    },
    {
     "data": {
      "image/png": "[encoded data removed]",
      "text/plain": [
       "<matplotlib.figure.Figure at 0x118f18710>"
      ]
     },
     "metadata": {},
     "output_type": "display_data"
    }
   ],
   "source": [
    "#print statistics\n",
    "def print_cond_stat(flags='CLA'):\n",
    "    \"\"\"\n",
    "    'C' for printing class, 'L' for printing legibility, 'A' for printing language\n",
    "    \"\"\"\n",
    "    def _incr(l=[-1]): l[0]+=1; return l[0];\n",
    "    if 'C' in flags:\n",
    "        print(\"Conditioned on [class]\")\n",
    "        print(\"Machine printed:\")\n",
    "        get_stat(clas[\"machine printed\"])\n",
    "        plt.figure(_incr())\n",
    "        plt.hist(clas[\"machine printed\"], 20, normed= 0,  facecolor='r', alpha=0.5)\n",
    "        plt.title(\"machine printed\")\n",
    "        print(\"Handwritten:\")\n",
    "        get_stat(clas[\"handwritten\"])\n",
    "        plt.figure(_incr())\n",
    "        plt.hist(clas[\"handwritten\"], 20, normed= 0,  facecolor='r', alpha=0.5)\n",
    "        plt.title(\"handwritten\")\n",
    "        print(\"Others:\")\n",
    "        get_stat(clas[\"others\"])\n",
    "        plt.figure(_incr())\n",
    "        plt.hist(clas[\"others\"], 20, normed= 0,  facecolor='r', alpha=0.5)\n",
    "        plt.title(\"others\")\n",
    "    if 'L' in flags:\n",
    "        print(\"Conditioned on [legibility]\")\n",
    "        print(\"Legible:\")\n",
    "        get_stat(legib[\"legible\"])\n",
    "        plt.figure(_incr())\n",
    "        plt.hist(legib[\"legible\"], 20, normed= 0,  facecolor='r', alpha=0.5)\n",
    "        plt.title(\"legible\")\n",
    "#         print(\"Illegible:\")\n",
    "#         get_stat(legib[\"illegible\"])\n",
    "#         plt.figure(_incr())\n",
    "#         plt.hist(legib[\"illegible\"], 20, normed= 0,  facecolor='r', alpha=0.5)\n",
    "    if 'A' in flags:\n",
    "        print(\"Conditioned on [language]\")\n",
    "        print(\"English\")\n",
    "        get_stat(lang[\"english\"])\n",
    "        plt.figure(_incr())\n",
    "        plt.hist(lang[\"english\"], 20, normed= 0,  facecolor='r', alpha=0.5)\n",
    "        plt.title(\"english\")\n",
    "#         print(\"Not english\")\n",
    "#         get_stat(lang[\"not english\"])\n",
    "#         plt.figure(_incr())\n",
    "#         plt.hist(lang[\"not english\"], 20, normed= 0,  facecolor='r', alpha=0.5)\n",
    "#         plt.title(\"not english\")\n",
    "#         print(\"NA\")\n",
    "#         get_stat(lang[\"na\"])\n",
    "#         plt.figure(_incr())\n",
    "#         plt.hist(lang[\"na\"], 20, normed= 0,  facecolor='r', alpha=0.5)\n",
    "#         plt.title(\"na\")\n",
    "    \n",
    "print_cond_stat()\n",
    "    "
   ]
  },
  {
   "cell_type": "markdown",
   "metadata": {},
   "source": [
    "# Plots"
   ]
  },
  {
   "cell_type": "code",
   "execution_count": 18,
   "metadata": {
    "collapsed": false
   },
   "outputs": [
    {
     "ename": "NameError",
     "evalue": "name 'coexists_all' is not defined",
     "output_type": "error",
     "traceback": [
      "\u001b[0;31m---------------------------------------------------------------------------\u001b[0m",
      "\u001b[0;31mNameError\u001b[0m                                 Traceback (most recent call last)",
      "\u001b[0;32m<ipython-input-18-7b39e10041cd>\u001b[0m in \u001b[0;36m<module>\u001b[0;34m()\u001b[0m\n\u001b[1;32m     40\u001b[0m     \u001b[0mplt\u001b[0m\u001b[0;34m.\u001b[0m\u001b[0msubplots_adjust\u001b[0m\u001b[0;34m(\u001b[0m\u001b[0mleft\u001b[0m\u001b[0;34m=\u001b[0m\u001b[0;36m0.15\u001b[0m\u001b[0;34m)\u001b[0m\u001b[0;34m\u001b[0m\u001b[0m\n\u001b[1;32m     41\u001b[0m \u001b[0;34m\u001b[0m\u001b[0m\n\u001b[0;32m---> 42\u001b[0;31m \u001b[0mplot\u001b[0m\u001b[0;34m(\u001b[0m\u001b[0mcoexists_all\u001b[0m\u001b[0;34m,\u001b[0m \u001b[0;34m'r'\u001b[0m\u001b[0;34m)\u001b[0m\u001b[0;34m\u001b[0m\u001b[0m\n\u001b[0m\u001b[1;32m     43\u001b[0m \u001b[0mplot\u001b[0m\u001b[0;34m(\u001b[0m\u001b[0mcoexists_large\u001b[0m\u001b[0;34m,\u001b[0m \u001b[0;34m'g'\u001b[0m\u001b[0;34m)\u001b[0m\u001b[0;34m\u001b[0m\u001b[0m\n\u001b[1;32m     44\u001b[0m \u001b[0mplt\u001b[0m\u001b[0;34m.\u001b[0m\u001b[0mshow\u001b[0m\u001b[0;34m(\u001b[0m\u001b[0;34m)\u001b[0m\u001b[0;34m\u001b[0m\u001b[0m\n",
      "\u001b[0;31mNameError\u001b[0m: name 'coexists_all' is not defined"
     ]
    }
   ],
   "source": [
    "\"\"\"\n",
    "Demo of the histogram (hist) function with a few features.\n",
    "\n",
    "In addition to the basic histogram, this demo shows a few optional features:\n",
    "\n",
    "    * Setting the number of data bins\n",
    "    * The ``normed`` flag, which normalizes bin heights so that the integral of\n",
    "      the histogram is 1. The resulting histogram is a probability density.\n",
    "    * Setting the face color of the bars\n",
    "    * Setting the opacity (alpha value).\n",
    "\n",
    "\"\"\"\n",
    "def count(data, num_bins):\n",
    "    out=[]\n",
    "    step =1./num_bins\n",
    "    total = float(len(data))\n",
    "    for i in range(num_bins):\n",
    "        if i==num_bins-1:\n",
    "            out.append(len(filter(lambda x: i*step<=x[2],data))/total)\n",
    "            break\n",
    "        out.append(len(filter(lambda x: i*step<=x[2]<(i+1)*step ,data))/total)\n",
    "    return out\n",
    "\n",
    "def plot(data,color, num_bins=20):\n",
    "    print \"Dataset has size %d\"%len(data)\n",
    "    # the histogram of the data\n",
    "#     n, bins, patches = plt.hist(map(lambda x:x[2], data), num_bins, normed= 1,  facecolor=color, alpha=0.5)\n",
    "    plt.plot(np.arange(0,1,1./num_bins),count(data, num_bins), color+'-', linewidth=2)\n",
    "    \n",
    "    # add a 'best fit' line\n",
    "    plt.xlabel('Coexistence Rate')\n",
    "    plt.ylabel('Frequency')\n",
    "    plt.title('Coexistence Rate Distribution')\n",
    "\n",
    "    # Tweak spacing to prevent clipping of ylabel\n",
    "    plt.subplots_adjust(left=0.15)\n",
    "\n",
    "plot(coexists_all, 'r')\n",
    "plot(coexists_large, 'g')\n",
    "plt.show()"
   ]
  },
  {
   "cell_type": "markdown",
   "metadata": {},
   "source": [
    "### Below is the different normalized distribution of coexistence rate of all images with texts vs. images with large text (area threshol=5%)."
   ]
  },
  {
   "cell_type": "code",
   "execution_count": 112,
   "metadata": {
    "collapsed": false
   },
   "outputs": [],
   "source": [
    "plt.subplot(2, 1, 1)\n",
    "plt.hist(map(lambda x:x[2], coexists_all), 20,normed= 1,  facecolor='red', alpha=0.5)\n",
    "plt.title('All images')\n",
    "plt.ylabel('Frequency')\n",
    "\n",
    "plt.subplot(2, 1, 2)\n",
    "plt.hist(map(lambda x:x[2], coexists_large), 20, normed= 1,  facecolor='green', alpha=0.5)\n",
    "plt.xlabel('Images with large text')\n",
    "plt.ylabel('Frequency')\n",
    "\n",
    "plt.show()\n"
   ]
  },
  {
   "cell_type": "code",
   "execution_count": 9,
   "metadata": {
    "collapsed": false
   },
   "outputs": [
    {
     "name": "stdout",
     "output_type": "stream",
     "text": [
      "1012\n"
     ]
    }
   ],
   "source": [
    "\n",
    "\"\"\"\n",
    "Filter out the max most bunch\n",
    "\"\"\"\n",
    "# len(img_captions)\n",
    "\n",
    "high_rates_images = [img_captions[k] for k in img_captions.keys() if ('coexistence_data' in img_captions[k] and img_captions[k]['coexistence_data']['rate'] > 0.9)]\n",
    "print len(high_rates_images)\n"
   ]
  },
  {
   "cell_type": "code",
   "execution_count": 65,
   "metadata": {
    "collapsed": false
   },
   "outputs": [
    {
     "name": "stdout",
     "output_type": "stream",
     "text": [
      "(0, 1, 0.0, '376385')\n"
     ]
    },
    {
     "data": {
      "text/plain": [
       "[{u'caption': u'A large crowd is watching a baseball game.',\n",
       "  u'id': 587066,\n",
       "  u'image_id': 376385},\n",
       " {u'caption': u'Home plate at a professional baseball game, as everyone gets ready.',\n",
       "  u'id': 588155,\n",
       "  u'image_id': 376385},\n",
       " {u'caption': u'A group of baseball players standing on top of a green field.',\n",
       "  u'id': 588377,\n",
       "  u'image_id': 376385},\n",
       " {u'caption': u'the ump calling a strike the catcher throwing the ball back to the pitcher and the batter has a strike',\n",
       "  u'id': 591974,\n",
       "  u'image_id': 376385},\n",
       " {u'caption': u'A baseball game in progress with the batter up to plate.',\n",
       "  u'id': 592115,\n",
       "  u'image_id': 376385}]"
      ]
     },
     "execution_count": 65,
     "metadata": {},
     "output_type": "execute_result"
    }
   ],
   "source": [
    "print coexists_center[0]\n",
    "img_captions['376385']['annotation']"
   ]
  },
  {
   "cell_type": "code",
   "execution_count": null,
   "metadata": {
    "collapsed": true
   },
   "outputs": [],
   "source": []
  }
 ],
 "metadata": {
  "kernelspec": {
   "display_name": "Python 2",
   "language": "python",
   "name": "python2"
  },
  "language_info": {
   "codemirror_mode": {
    "name": "ipython",
    "version": 2
   },
   "file_extension": ".py",
   "mimetype": "text/x-python",
   "name": "python",
   "nbconvert_exporter": "python",
   "pygments_lexer": "ipython2",
   "version": "2.7.11"
  }
 },
 "nbformat": 4,
 "nbformat_minor": 0
}
