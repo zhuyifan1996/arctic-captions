{
 "cells": [
  {
   "cell_type": "code",
   "execution_count": 1,
   "metadata": {
    "collapsed": false
   },
   "outputs": [],
   "source": [
    "\"\"\"\n",
    "Frequency Analysis\n",
    "\"\"\"\n",
    "\n",
    "COCO_PATH = '../../data/coco/'\n",
    "COCO_ANNO_PATH = COCO_PATH + 'annotations/'\n",
    "\n",
    "# load the data from captions\n",
    "import json\n",
    "with open(COCO_ANNO_PATH + 'captions_train2014.json') as f:\n",
    "    coco_captions = json.load(f)\n",
    "    \n",
    "    # build the reverse dictionary\n",
    "    img_captions = {}\n",
    "    for img_info in coco_captions['images']:\n",
    "        mid = str(img_info['id'])\n",
    "        if not mid in img_captions:\n",
    "            img_captions[mid] = {}\n",
    "        img_captions[mid]['image'] = img_info\n",
    "        \n",
    "    for cap_info in coco_captions['annotations']:\n",
    "        mid = str(cap_info['image_id'])\n",
    "        if not 'annotation' in img_captions[mid]:\n",
    "            img_captions[mid]['annotation'] = []\n",
    "            img_captions[mid]['captions'] = ''\n",
    "        img_captions[mid]['annotation'].append(cap_info)\n",
    "        img_captions[mid]['captions'] += str(cap_info['caption']) + ' '\n",
    "        "
   ]
  },
  {
   "cell_type": "code",
   "execution_count": 33,
   "metadata": {
    "collapsed": false
   },
   "outputs": [
    {
     "data": {
      "text/plain": [
       "{u'coco_url': u'http://mscoco.org/images/8006',\n",
       " u'date_captured': u'2013-11-16 14:08:08',\n",
       " u'file_name': u'COCO_train2014_000000008006.jpg',\n",
       " u'flickr_url': u'http://farm2.staticflickr.com/1266/729903566_769951485f_z.jpg',\n",
       " u'height': 480,\n",
       " u'id': 8006,\n",
       " u'license': 5,\n",
       " u'width': 640}"
      ]
     },
     "execution_count": 33,
     "metadata": {},
     "output_type": "execute_result"
    }
   ],
   "source": [
    "img_captions['8006']['image']"
   ]
  },
  {
   "cell_type": "code",
   "execution_count": 3,
   "metadata": {
    "collapsed": false
   },
   "outputs": [
    {
     "name": "stdout",
     "output_type": "stream",
     "text": [
      "loading annotations into memory...\n",
      "0:00:03.493515\n",
      "creating index...\n",
      "index created!\n"
     ]
    },
    {
     "data": {
      "text/plain": [
       "[]"
      ]
     },
     "execution_count": 3,
     "metadata": {},
     "output_type": "execute_result"
    }
   ],
   "source": [
    "\"\"\"\n",
    "Import Coco Text\n",
    "\"\"\"\n",
    "import sys\n",
    "import os\n",
    "CWD = os.getcwd()\n",
    "COCO_TEXT_PATH = CWD+'/../../coco-text/'\n",
    "sys.path.insert(0, COCO_TEXT_PATH)\n",
    "import coco_text as ct\n",
    "\n",
    "ct = ct.COCO_Text(COCO_PATH + 'COCO_Text.json')\n",
    "\n",
    "ct.loadAnns(ct.getAnnIds(imgIds='8006'))"
   ]
  },
  {
   "cell_type": "code",
   "execution_count": 4,
   "metadata": {
    "collapsed": false
   },
   "outputs": [
    {
     "name": "stdout",
     "output_type": "stream",
     "text": [
      "Captions is :\n",
      "SEVERAL MEN PLAYING BASEBALL ON AN OPEN FIELD. THE BOY IS IN BATTING STANCE TO WAITING. A BASEBALL PLAYER TAKES A HIGH GRIP ON THE BAT AS A CATCHER SCRAMBLES FOR THE BALL. A BASEBALL GAME IN ACTION WITH A MAN AT THE PLATE WITH A BAT. A BASEBALL PLAYER HOLDING A BAT ON A FIELD. \n",
      "\n",
      "set(['', 'BOY', 'BAT', 'SCRAMBLES', 'GAME', 'BALL', 'BASEBALL', 'HOLDING', 'SEVERAL', 'OPEN', 'PLAYING', 'FOR', 'WITH', '.', 'TO', 'ACTION', 'GRIP', 'BATTING', 'A', 'CATCHER', None, 'TAKES', 'STANCE', 'PLATE', 'IS', 'AN', 'HIGH', 'FIELD', 'WAITING', 'AT', 'IN', 'THE', 'ON', 'PLAYER', 'MEN', 'AS', 'MAN'])\n",
      "\n",
      "set([u'GV'])\n",
      "0.0\n"
     ]
    },
    {
     "data": {
      "text/plain": [
       "0.0"
      ]
     },
     "execution_count": 4,
     "metadata": {},
     "output_type": "execute_result"
    }
   ],
   "source": [
    "import re\n",
    "\n",
    "def cal_coexist_rate(img_id):\n",
    "    cap = img_captions[img_id]['captions'].upper()\n",
    "    print 'Captions is :\\n%s\\n'%cap\n",
    "\n",
    "    cap_words = set(re.split('([,.])*\\s', cap))\n",
    "    print '%s\\n'%cap_words\n",
    "\n",
    "    texts = ct.loadAnns(ct.getAnnIds(imgIds=int(img_id)))\n",
    "    text_words = set()\n",
    "    coexist_count = 0\n",
    "    for text in texts:\n",
    "        if not 'utf8_string' in text:\n",
    "            continue\n",
    "        words = text['utf8_string'].upper().split(' ')\n",
    "        for word in words:\n",
    "            if word in text_words:\n",
    "                continue\n",
    "            else:\n",
    "                text_words.add(word)\n",
    "\n",
    "            if word in cap_words:\n",
    "                print 'Word \"%s\" in caption.'%word\n",
    "                coexist_count = coexist_count + 1\n",
    "\n",
    "    print text_words\n",
    "    print coexist_count/float(len(set(text_words)))\n",
    "    return coexist_count/float(len(set(text_words))) \n",
    "\n",
    "# cal_coexist_rate('8006')\n",
    "cal_coexist_rate('296614')"
   ]
  },
  {
   "cell_type": "code",
   "execution_count": 78,
   "metadata": {
    "collapsed": false
   },
   "outputs": [],
   "source": [
    "import re\n",
    "\n",
    "def exclude_small_text(anns, img_id, threshold=0.1):\n",
    "    \"\"\"filter out the text annotations with a bounding box smaller than [threshold]*img_area\"\"\"\n",
    "    img_info = img_captions[img_id]['image']\n",
    "    h,w = img_info['height'], img_info['width']\n",
    "    return filter(lambda ann: ann['area']>=h*w*threshold, anns)\n",
    "\n",
    "def exclude_corner_text(anns, img_id, threshold=0.1):\n",
    "    \"\"\"filter out the text annotations on sides and corners\"\"\"\n",
    "    img_info = img_captions[img_id]['image']\n",
    "    h,w = img_info['height'], img_info['width']\n",
    "    def _judge(ann):\n",
    "        [x,y,bw,bh]=ann['bbox']\n",
    "        return  x>=threshold*w and \\\n",
    "                x+bw<=(1-threshold)*w and \\\n",
    "                y+bh<=(1-threshold)*h and \\\n",
    "                y>=threshold*h\n",
    "    return filter(_judge, anns)\n",
    "        \n",
    "def calculate_population_coexist_stat(flags={}):\n",
    "    \"\"\"flag: \n",
    "    [] -- all captions\n",
    "    size: n -- excluding small bboxes with size less than n\"\"\"\n",
    "    coexists = []\n",
    "\n",
    "    for img_id in img_captions.keys():\n",
    "        cap = img_captions[img_id]['captions'].upper()\n",
    "        cap_words = set(re.split('([,.])*\\s', cap))\n",
    "\n",
    "        texts = ct.loadAnns(ct.getAnnIds(imgIds=int(img_id)))\n",
    "        \n",
    "        #filtering\n",
    "        if 'size' in flags:\n",
    "            texts = exclude_small_text(texts, img_id , threshold=flags['size'])\n",
    "        if 'corner' in flags:\n",
    "            texts = exclude_corner_text(texts, img_id, threshold=flags['corner'])\n",
    "        \n",
    "        if len(texts) == 0:\n",
    "            continue\n",
    "\n",
    "        text_words = set()\n",
    "        coexist_count = 0\n",
    "        for text in texts:\n",
    "            if not 'utf8_string' in text:\n",
    "                continue\n",
    "            words = text['utf8_string'].upper().split(' ')\n",
    "            for word in words:\n",
    "                if word in text_words:\n",
    "                    continue\n",
    "                else:\n",
    "                    text_words.add(word)\n",
    "\n",
    "                if word in cap_words:\n",
    "                    coexist_count = coexist_count + 1\n",
    "\n",
    "        if len(text_words) == 0:\n",
    "            continue\n",
    "\n",
    "        img_captions[img_id]['coexistence_data'] = {\n",
    "            'count'      : coexist_count,\n",
    "            'text_count' : len(text_words),\n",
    "            'rate'       : coexist_count/float(len(text_words))\n",
    "        }\n",
    "\n",
    "        coexists.append((coexist_count, len(text_words),coexist_count/float(len(text_words)), img_id))\n",
    "    return coexists\n",
    "\n",
    "#coexists_large = calculate_population_coexist_stat({'size':0.05})\n",
    "coexists_center = calculate_population_coexist_stat({'corner':0.25})\n",
    "#coexists_all = calculate_population_coexist_stat()\n"
   ]
  },
  {
   "cell_type": "code",
   "execution_count": 79,
   "metadata": {
    "collapsed": false
   },
   "outputs": [
    {
     "name": "stdout",
     "output_type": "stream",
     "text": [
      "Dataset has size:10594\n",
      "Getting the 0 data stat:\n",
      "\n",
      "\n",
      "Total:\t10594;\t\tMean:\t\t0.360204;\tNonezero:\t2567\n",
      "Median:\t0.000000;\tMedian(H):\t0.000000;\tMedian(L):\t0.000000;\n",
      "Max:\t14.000000;\tMin:\t\t0.000000;\tStd:\t\t0.772624\n",
      "\n",
      "\n",
      "Getting the 1 data stat:\n",
      "\n",
      "\n",
      "Total:\t10594;\t\tMean:\t\t2.752690;\tNonezero:\t10594\n",
      "Median:\t2.000000;\tMedian(H):\t2.000000;\tMedian(L):\t2.000000;\n",
      "Max:\t67.000000;\tMin:\t\t1.000000;\tStd:\t\t3.027331\n",
      "\n",
      "\n",
      "Getting the 2 data stat:\n",
      "\n",
      "\n",
      "Total:\t10594;\t\tMean:\t\t0.135520;\tNonezero:\t2567\n",
      "Median:\t0.000000;\tMedian(H):\t0.000000;\tMedian(L):\t0.000000;\n",
      "Max:\t1.000000;\tMin:\t\t0.000000;\tStd:\t\t0.291835\n",
      "\n",
      "\n"
     ]
    }
   ],
   "source": [
    "\n",
    "import statistics\n",
    "\n",
    "def get_stat(data):\n",
    "    print \"\\n\"\n",
    "    print \"Total:\\t%d;\\t\\tMean:\\t\\t%f;\\tNonezero:\\t%d\"%(len(data), statistics.mean(data), len(filter(lambda x:x!=0, data)))\n",
    "    print \"Median:\\t%f;\\tMedian(H):\\t%f;\\tMedian(L):\\t%f;\"%(statistics.median(data), statistics.median_high(data), statistics.median_low(data))\n",
    "    print \"Max:\\t%f;\\tMin:\\t\\t%f;\\tStd:\\t\\t%f\"%(max(data), min(data),statistics.stdev(data))\n",
    "    print \"\\n\"\n",
    "\n",
    "dataset = coexists_center\n",
    "print \"Dataset has size:%d\" % len(dataset)\n",
    "for i in [0,1,2]:\n",
    "    print \"Getting the %d data stat:\"%i\n",
    "    get_stat(map(lambda x:x[i], dataset))\n"
   ]
  },
  {
   "cell_type": "code",
   "execution_count": null,
   "metadata": {
    "collapsed": false
   },
   "outputs": [],
   "source": [
    "\"\"\"\n",
    "Demo of the histogram (hist) function with a few features.\n",
    "\n",
    "In addition to the basic histogram, this demo shows a few optional features:\n",
    "\n",
    "    * Setting the number of data bins\n",
    "    * The ``normed`` flag, which normalizes bin heights so that the integral of\n",
    "      the histogram is 1. The resulting histogram is a probability density.\n",
    "    * Setting the face color of the bars\n",
    "    * Setting the opacity (alpha value).\n",
    "\n",
    "\"\"\"\n",
    "import numpy as np\n",
    "import matplotlib.mlab as mlab\n",
    "import matplotlib.pyplot as plt\n",
    "\n",
    "\n",
    "def plot(data,color):\n",
    "    num_bins = 20\n",
    "    # the histogram of the data\n",
    "    n, bins, patches = plt.hist(map(lambda x:x[2], data), num_bins, normed= 1,  facecolor=color, alpha=0.5)\n",
    "\n",
    "    # add a 'best fit' line\n",
    "    plt.xlabel('Coexistence Rate')\n",
    "    plt.ylabel('Frequency')\n",
    "    plt.title('Coexistence Rate Distribution')\n",
    "\n",
    "    # Tweak spacing to prevent clipping of ylabel\n",
    "    plt.subplots_adjust(left=0.15)\n",
    "\n",
    "plot(coexists_all, 'red')\n",
    "plot(coexists_center, 'green')\n",
    "plt.show()"
   ]
  },
  {
   "cell_type": "code",
   "execution_count": 8,
   "metadata": {
    "collapsed": false
   },
   "outputs": [],
   "source": [
    "# \"\"\"\n",
    "# Frequency chart\n",
    "# \"\"\"\n",
    "# import numpy as np\n",
    "# import matplotlib.pyplot as plt\n",
    "\n",
    "\n",
    "# # Pile up the history\n",
    "# freq = {}\n",
    "# for i in range(max(map(lambda x:x[2], coexists))):\n",
    "    \n",
    "\n",
    "# x1 = np.linspace(0.0, 5.0)\n",
    "# x2 = np.linspace(0.0, 2.0)\n",
    "\n",
    "# y1 = np.cos(2 * np.pi * x1) * np.exp(-x1)\n",
    "# y2 = np.cos(2 * np.pi * x2)\n",
    "\n",
    "# plt.subplot(2, 1, 1)\n",
    "# plt.plot(x1, y1, 'yo-')\n",
    "# plt.title('A tale of 2 subplots')\n",
    "# plt.ylabel('Damped oscillation')\n",
    "\n",
    "# plt.subplot(2, 1, 2)\n",
    "# plt.plot(x2, y2, 'r.-')\n",
    "# plt.xlabel('time (s)')\n",
    "# plt.ylabel('Undamped')\n",
    "\n",
    "# plt.show()\n"
   ]
  },
  {
   "cell_type": "code",
   "execution_count": 9,
   "metadata": {
    "collapsed": false
   },
   "outputs": [
    {
     "name": "stdout",
     "output_type": "stream",
     "text": [
      "1012\n"
     ]
    }
   ],
   "source": [
    "\"\"\"\n",
    "Filter out the max most bunch\n",
    "\"\"\"\n",
    "# len(img_captions)\n",
    "\n",
    "high_rates_images = [img_captions[k] for k in img_captions.keys() if ('coexistence_data' in img_captions[k] and img_captions[k]['coexistence_data']['rate'] > 0.9)]\n",
    "print len(high_rates_images)\n"
   ]
  },
  {
   "cell_type": "code",
   "execution_count": 65,
   "metadata": {
    "collapsed": false
   },
   "outputs": [
    {
     "name": "stdout",
     "output_type": "stream",
     "text": [
      "(0, 1, 0.0, '376385')\n"
     ]
    },
    {
     "data": {
      "text/plain": [
       "[{u'caption': u'A large crowd is watching a baseball game.',\n",
       "  u'id': 587066,\n",
       "  u'image_id': 376385},\n",
       " {u'caption': u'Home plate at a professional baseball game, as everyone gets ready.',\n",
       "  u'id': 588155,\n",
       "  u'image_id': 376385},\n",
       " {u'caption': u'A group of baseball players standing on top of a green field.',\n",
       "  u'id': 588377,\n",
       "  u'image_id': 376385},\n",
       " {u'caption': u'the ump calling a strike the catcher throwing the ball back to the pitcher and the batter has a strike',\n",
       "  u'id': 591974,\n",
       "  u'image_id': 376385},\n",
       " {u'caption': u'A baseball game in progress with the batter up to plate.',\n",
       "  u'id': 592115,\n",
       "  u'image_id': 376385}]"
      ]
     },
     "execution_count": 65,
     "metadata": {},
     "output_type": "execute_result"
    }
   ],
   "source": [
    "print coexists_center[0]\n",
    "img_captions['376385']['annotation']"
   ]
  },
  {
   "cell_type": "code",
   "execution_count": null,
   "metadata": {
    "collapsed": true
   },
   "outputs": [],
   "source": []
  }
 ],
 "metadata": {
  "kernelspec": {
   "display_name": "Python 2",
   "language": "python",
   "name": "python2"
  },
  "language_info": {
   "codemirror_mode": {
    "name": "ipython",
    "version": 2
   },
   "file_extension": ".py",
   "mimetype": "text/x-python",
   "name": "python",
   "nbconvert_exporter": "python",
   "pygments_lexer": "ipython2",
   "version": "2.7.11"
  }
 },
 "nbformat": 4,
 "nbformat_minor": 0
}
