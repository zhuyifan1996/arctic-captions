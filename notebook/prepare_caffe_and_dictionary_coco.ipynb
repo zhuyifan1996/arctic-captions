{
 "cells": [
  {
   "cell_type": "markdown",
   "metadata": {},
   "source": [
    "# Prepare model for CoCo\n"
   ]
  },
  {
   "cell_type": "code",
   "execution_count": 6,
   "metadata": {
    "collapsed": false
   },
   "outputs": [],
   "source": [
    "# Setup \n",
    "import os\n",
    "CWD = os.getcwd() + \"/\"\n",
    "originalImagesPath     = CWD + '../../data/coco/originalImages'\n",
    "preprocessedImagesPath = CWD + '../../data/coco/processedImages/'\n",
    "\n",
    "caffe_root = '/Users/Grendel/caffe/'\n",
    "\n",
    "vgg_ilsvrc_19_layoutFileName = caffe_root + 'models/vgg_ilsvrc_19/VGG_ILSVRC_19_layers_deploy.prototxt'\n",
    "vgg_ilsvrc_19_modelFileName  = caffe_root + 'models/vgg_ilsvrc_19/VGG_ILSVRC_19_layers.caffemodel'\n",
    "\n",
    "dataPath        = CWD + '../../data/coco/'\n",
    "annotation_path = dataPath + 'annotations/'\n",
    "annotation_tr   = annotation_path + 'captions_train2014.json'\n",
    "splitFileName   = dataPath + 'dataset_coco.json'\n",
    "\n",
    "tr_data_path    = dataPath + 'train2014/'\n",
    "te_data_path    = dataPath + 'test2014/'\n",
    "val_data_path   = dataPath + 'val2014/'\n",
    "\n",
    "experimentPrefix = '.exp1'\n",
    "\n"
   ]
  },
  {
   "cell_type": "code",
   "execution_count": 7,
   "metadata": {
    "collapsed": false
   },
   "outputs": [],
   "source": [
    "# Import\n",
    "\n",
    "import pdb\n",
    "from sys import stdout\n",
    "import scipy\n",
    "import  cPickle as pickle\n",
    "\n",
    "import numpy as np\n",
    "import matplotlib.pyplot as plt\n",
    "%matplotlib inline\n",
    "\n",
    "\n",
    "import sys\n",
    "sys.path.insert(0, caffe_root + 'python')\n",
    "\n",
    "import caffe\n",
    "\n",
    "plt.rcParams['figure.figsize'] = (10, 10)\n",
    "plt.rcParams['image.interpolation'] = 'nearest'\n",
    "plt.rcParams['image.cmap'] = 'gray'\n",
    "\n",
    "import pandas as pd\n",
    "import nltk"
   ]
  },
  {
   "cell_type": "code",
   "execution_count": 8,
   "metadata": {
    "collapsed": false
   },
   "outputs": [],
   "source": [
    "caffe.set_device(0)\n",
    "caffe.set_mode_gpu()\n",
    "\n",
    "net = caffe.Net(vgg_ilsvrc_19_layoutFileName,\n",
    "                vgg_ilsvrc_19_modelFileName,\n",
    "                caffe.TEST)\n",
    "\n",
    "# input preprocessing: 'data' is the name of the input blob == net.inputs[0]\n",
    "transformer = caffe.io.Transformer({'data': net.blobs['data'].data.shape})\n",
    "transformer.set_transpose('data', (2,0,1))\n",
    "transformer.set_mean('data', np.load(caffe_root + 'python/caffe/imagenet/ilsvrc_2012_mean.npy').mean(1).mean(1)) # mean pixel\n",
    "transformer.set_raw_scale('data', 255)  # the reference model operates on images in [0,255] range instead of [0,1]\n",
    "transformer.set_channel_swap('data', (2,1,0))  # the reference model has channels in BGR order instead of RGB"
   ]
  },
  {
   "cell_type": "code",
   "execution_count": 9,
   "metadata": {
    "collapsed": false
   },
   "outputs": [
    {
     "data": {
      "text/plain": [
       "'\\nUse:\\n    ls <your directory> > <the file you want to save to>\\n'"
      ]
     },
     "execution_count": 9,
     "metadata": {},
     "output_type": "execute_result"
    }
   ],
   "source": [
    "# Create file list \n",
    "# coco.devImages.txt \n",
    "# coco.trainImages.txt \n",
    "# coco.testImages.txt\n",
    "\n",
    "# import json\n",
    "# from pprint import pprint\n",
    "\n",
    "\n",
    "# with open(splitFileName) as f:\n",
    "#     data = json.load(f)\n",
    "\n",
    "# df = pd.DataFrame(data['images'])\n",
    "\n",
    "# files = [ 'dev','test','train']\n",
    "\n",
    "# dataDict = {}\n",
    "\n",
    "# dataDict['dev'] = df[df.split == 'val']\n",
    "# dataDict['test'] = df[df.split == 'test']\n",
    "# dataDict['restval'] = df[df.split == 'restval']\n",
    "# dataDict['train'] = df[df.split == 'train']\n",
    "\n",
    "# for f in files:\n",
    "#     dataDict[f]['filename'].to_csv(dataPath + 'coco.' + f + 'Images.txt',index=False)\n",
    "    \n",
    "\n",
    "# def buildCapDict(sentences):\n",
    "#     return [s[u'raw'] for s in sentences ]\n",
    "\n",
    "# df['captions'] = df.apply(lambda row: buildCapDict(row['sentences']), axis=1)\n",
    "\n",
    "# capDict = df.loc[:,['filename', 'captions']].set_index('filename').to_dict()\n",
    "\n",
    "# capDict = capDict['captions']\n",
    "\n",
    "\"\"\"\n",
    "Use:\n",
    "    ls <your directory> > <the file you want to save to>\n",
    "\"\"\""
   ]
  },
  {
   "cell_type": "code",
   "execution_count": 10,
   "metadata": {
    "collapsed": false
   },
   "outputs": [],
   "source": [
    "# Build dictionary\n",
    "# corpus = df['captions'].values\n",
    "# corpus2 = [' '.join(c) for c in corpus]\n",
    "# corpus3 = ' '.join(corpus2)\n",
    "\n",
    "# Make the dictionary form the captisonw\n",
    "import json\n",
    "with open(annotation_tr,'r') as f:\n",
    "    caps_notes = json.load(f)\n",
    "    corpus3 = ' '.join([note['caption'] for note in caps_notes['annotations']])\n",
    "words = nltk.FreqDist(corpus3.split()).most_common()\n",
    "\n",
    "wordsDict = {words[i][0]:i+2 for i in range(len(words))}\n",
    "\n",
    "with open(dataPath + 'dictionary.pkl', 'wb') as f:\n",
    "    pickle.dump(wordsDict, f)"
   ]
  },
  {
   "cell_type": "code",
   "execution_count": 11,
   "metadata": {
    "collapsed": false
   },
   "outputs": [
    {
     "data": {
      "text/plain": [
       "[(u'a', 443447),\n",
       " (u'A', 241099),\n",
       " (u'on', 148118),\n",
       " (u'of', 141775),\n",
       " (u'in', 127752),\n",
       " (u'the', 118869),\n",
       " (u'with', 106930),\n",
       " (u'and', 98049),\n",
       " (u'is', 67163),\n",
       " (u'man', 48108)]"
      ]
     },
     "execution_count": 11,
     "metadata": {},
     "output_type": "execute_result"
    }
   ],
   "source": [
    "words[:10]"
   ]
  },
  {
   "cell_type": "code",
   "execution_count": null,
   "metadata": {
    "collapsed": false
   },
   "outputs": [],
   "source": [
    "# set net to batch size of 50\n",
    "# net.blobs['data'].reshape(10,3,224,224)\n",
    "\n",
    "files = [ 'val','test','train']\n",
    "\n",
    "for fname in files:\n",
    "    print fname \n",
    "    f = open(dataPath + \"annotations/\" + 'coco.' + fname + 'Images.txt')\n",
    "    counter = 0\n",
    "    \n",
    "    imageList = [i for i in f]\n",
    "    numImage = len(imageList)\n",
    "    \n",
    "    result = np.empty((numImage, 100352))\n",
    "\n",
    "    for i in range(numImage):\n",
    "        fn = imageList[i].rstrip()\n",
    "        net.blobs['data'].data[...] = transformer.preprocess('data', caffe.io.load_image( dataPath + fname + \"2014/\" +  fn))\n",
    "        out = net.forward()\n",
    "        feat = net.blobs['conv5_4'].data[0]\n",
    "        reshapeFeat = np.swapaxes(feat, 0,2)\n",
    "        reshapeFeat2 = np.reshape(reshapeFeat,(1,-1))\n",
    "        \n",
    "        counter += 1\n",
    "        stdout.write(\"\\r%d\" % counter)\n",
    "        stdout.flush()\n",
    "        result[i,:] = reshapeFeat2\n",
    "        \n",
    "    print result.shape\n",
    "    \n",
    "    resultSave = scipy.sparse.csr_matrix(result)\n",
    "    resultSave32 = resultSave.astype('float32')\n",
    "    \n",
    "    if fname == 'train':\n",
    "        np.savez(dataPath + 'coco_feature.' + fname + experimentPrefix, data=resultSave32.data, indices=resultSave32.indices, indptr=resultSave32.indptr, shape=resultSave.shape)\n",
    "    else:\n",
    "        fileName = open(dataPath + 'coco_feature.' + fname + experimentPrefix + '.pkl','wb')\n",
    "        pickle.dump(resultSave32, fileName ,-1)\n",
    "        fileName.close()\n",
    "\n"
   ]
  },
  {
   "cell_type": "code",
   "execution_count": 17,
   "metadata": {
    "collapsed": false
   },
   "outputs": [],
   "source": [
    "np.savez(dataPath + 'coco_feature.' + fname + experimentPrefix, data=resultSave32.data, indices=resultSave32.indices, indptr=resultSave32.indptr, shape=resultSave.shape)\n",
    "  \n"
   ]
  },
  {
   "cell_type": "code",
   "execution_count": 18,
   "metadata": {
    "collapsed": true
   },
   "outputs": [],
   "source": [
    "def save_sparse_csr(filename,array):\n",
    "    np.savez(filename,data = array.data ,indices=array.indices,\n",
    "             indptr =array.indptr, shape=array.shape )\n",
    "\n",
    "def load_sparse_csr(filename):\n",
    "    loader = np.load(filename)\n",
    "    return csr_matrix((  loader['data'], loader['indices'], loader['indptr']),\n",
    "                         shape = loader['shape'])"
   ]
  },
  {
   "cell_type": "code",
   "execution_count": 19,
   "metadata": {
    "collapsed": false
   },
   "outputs": [],
   "source": [
    "files = ['test', 'dev']\n",
    "\n",
    "for name in files:\n",
    "    counter = 0\n",
    "    feat = pickle.load(open(dataPath + 'coco_feature.' + name + experimentPrefix + '.pkl','rb'))\n",
    "    filenames = open(dataPath + 'coco.' + name + 'Images.txt')\n",
    "    cap = []\n",
    "    for imageFile in filenames:\n",
    "        imageFile = imageFile.rstrip()\n",
    "        for sen in capDict[imageFile]:\n",
    "            cap.append([sen.rstrip(), counter])\n",
    "        counter += 1\n",
    "    saveFile = open(dataPath + 'coco_align.' + name + experimentPrefix + '.pkl', 'wb')\n",
    "    pickle.dump(cap, saveFile, protocol=pickle.HIGHEST_PROTOCOL)\n",
    "    pickle.dump(feat, saveFile, protocol=pickle.HIGHEST_PROTOCOL)\n",
    "    saveFile.close()\n",
    "            \n",
    "    \n",
    "    "
   ]
  },
  {
   "cell_type": "code",
   "execution_count": 20,
   "metadata": {
    "collapsed": false
   },
   "outputs": [],
   "source": [
    "files = ['train']\n",
    "\n",
    "for name in files:\n",
    "    counter = 0\n",
    "#     feat = pickle.load(open(dataPath + 'coco_feature.' + name +'.pkl','rb'))\n",
    "    filenames = open(dataPath + 'coco.' + name + 'Images.txt')\n",
    "    cap = []\n",
    "    for imageFile in filenames:\n",
    "        imageFile = imageFile.rstrip()\n",
    "        for sen in capDict[imageFile]:\n",
    "            cap.append([sen.rstrip(), counter])\n",
    "        counter += 1\n",
    "    saveFile = open(dataPath + 'coco_align.' + name + experimentPrefix + '.pkl', 'wb')\n",
    "    pickle.dump(cap, saveFile, protocol=pickle.HIGHEST_PROTOCOL)\n",
    "#     pickle.dump(feat, saveFile, protocol=pickle.HIGHEST_PROTOCOL)\n",
    "    saveFile.close()"
   ]
  },
  {
   "cell_type": "code",
   "execution_count": 21,
   "metadata": {
    "collapsed": false
   },
   "outputs": [
    {
     "data": {
      "text/plain": [
       "22"
      ]
     },
     "execution_count": 21,
     "metadata": {},
     "output_type": "execute_result"
    }
   ],
   "source": [
    "wordsDict['Two']"
   ]
  },
  {
   "cell_type": "code",
   "execution_count": 22,
   "metadata": {
    "collapsed": false
   },
   "outputs": [
    {
     "data": {
      "text/plain": [
       "<82783x100352 sparse matrix of type '<type 'numpy.float32'>'\n",
       "\twith 502170223 stored elements in Compressed Sparse Row format>"
      ]
     },
     "execution_count": 22,
     "metadata": {},
     "output_type": "execute_result"
    }
   ],
   "source": [
    "resultSave32"
   ]
  },
  {
   "cell_type": "code",
   "execution_count": null,
   "metadata": {
    "collapsed": true
   },
   "outputs": [],
   "source": []
  }
 ],
 "metadata": {
  "description": "Instant recognition with a pre-trained model and a tour of the net interface for visualizing features and parameters layer-by-layer.",
  "example_name": "Image Classification and Filter Visualization",
  "include_in_docs": true,
  "kernelspec": {
   "display_name": "Python 2",
   "language": "python",
   "name": "python2"
  },
  "language_info": {
   "codemirror_mode": {
    "name": "ipython",
    "version": 2
   },
   "file_extension": ".py",
   "mimetype": "text/x-python",
   "name": "python",
   "nbconvert_exporter": "python",
   "pygments_lexer": "ipython2",
   "version": "2.7.10"
  },
  "priority": 1
 },
 "nbformat": 4,
 "nbformat_minor": 0
}
